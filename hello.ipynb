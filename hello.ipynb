{
 "cells": [
  {
   "cell_type": "code",
   "execution_count": 18,
   "metadata": {
    "ExecuteTime": {
     "end_time": "2020-03-09T13:45:57.352130Z",
     "start_time": "2020-03-09T13:45:57.347110Z"
    }
   },
   "outputs": [
    {
     "name": "stdout",
     "output_type": "stream",
     "text": [
      "The autoreload extension is already loaded. To reload it, use:\n",
      "  %reload_ext autoreload\n"
     ]
    }
   ],
   "source": [
    "%load_ext autoreload"
   ]
  },
  {
   "cell_type": "code",
   "execution_count": 230,
   "metadata": {
    "ExecuteTime": {
     "end_time": "2020-03-09T17:04:57.580513Z",
     "start_time": "2020-03-09T17:04:57.517509Z"
    }
   },
   "outputs": [],
   "source": [
    "%autoreload\n",
    "import time\n",
    "from main import *\n",
    "import numpy as np"
   ]
  },
  {
   "cell_type": "markdown",
   "metadata": {},
   "source": [
    "## Selection Sort"
   ]
  },
  {
   "cell_type": "code",
   "execution_count": 41,
   "metadata": {
    "ExecuteTime": {
     "end_time": "2020-03-09T14:28:46.177465Z",
     "start_time": "2020-03-09T14:27:34.934109Z"
    }
   },
   "outputs": [
    {
     "name": "stdout",
     "output_type": "stream",
     "text": [
      "10.031183923530884\n"
     ]
    }
   ],
   "source": [
    "secs  = time_sort_n2(selection_sort)\n",
    "mins  = secs / 60\n",
    "hours = mins / 60\n",
    "print(hours)"
   ]
  },
  {
   "cell_type": "markdown",
   "metadata": {},
   "source": [
    "## Insertion Sort"
   ]
  },
  {
   "cell_type": "code",
   "execution_count": 36,
   "metadata": {
    "ExecuteTime": {
     "end_time": "2020-03-09T14:20:31.090778Z",
     "start_time": "2020-03-09T14:18:52.606703Z"
    }
   },
   "outputs": [
    {
     "name": "stdout",
     "output_type": "stream",
     "text": [
      "13.889139404595385\n"
     ]
    }
   ],
   "source": [
    "secs  = time_sort_n2(insertion_sort)\n",
    "mins  = secs / 60\n",
    "hours = mins / 60\n",
    "print(hours)"
   ]
  },
  {
   "cell_type": "markdown",
   "metadata": {},
   "source": [
    "## Heap Sort"
   ]
  },
  {
   "cell_type": "code",
   "execution_count": 33,
   "metadata": {
    "ExecuteTime": {
     "end_time": "2020-03-09T14:00:58.684312Z",
     "start_time": "2020-03-09T14:00:46.109763Z"
    }
   },
   "outputs": [
    {
     "name": "stdout",
     "output_type": "stream",
     "text": [
      "12.271333456039429\n"
     ]
    }
   ],
   "source": [
    "secs = time_sort(heap_sort)\n",
    "print(secs)"
   ]
  },
  {
   "cell_type": "markdown",
   "metadata": {},
   "source": [
    "## Merge Sort"
   ]
  },
  {
   "cell_type": "code",
   "execution_count": 165,
   "metadata": {
    "ExecuteTime": {
     "end_time": "2020-03-09T16:14:28.124105Z",
     "start_time": "2020-03-09T16:14:19.294593Z"
    }
   },
   "outputs": [
    {
     "name": "stdout",
     "output_type": "stream",
     "text": [
      "8.518371343612671\n"
     ]
    }
   ],
   "source": [
    "secs = time_sort(merge_sort)\n",
    "print(secs)"
   ]
  },
  {
   "cell_type": "markdown",
   "metadata": {},
   "source": [
    "## Trie Sort"
   ]
  },
  {
   "cell_type": "code",
   "execution_count": 231,
   "metadata": {
    "ExecuteTime": {
     "end_time": "2020-03-09T17:05:09.684031Z",
     "start_time": "2020-03-09T17:05:06.692985Z"
    }
   },
   "outputs": [
    {
     "name": "stdout",
     "output_type": "stream",
     "text": [
      "2.6768739223480225\n"
     ]
    }
   ],
   "source": [
    "secs = time_sort(trie_sort)\n",
    "print(secs)"
   ]
  },
  {
   "cell_type": "markdown",
   "metadata": {
    "ExecuteTime": {
     "end_time": "2020-02-26T09:54:41.747884Z",
     "start_time": "2020-02-26T09:54:41.744327Z"
    }
   },
   "source": [
    "## Quick Sort"
   ]
  },
  {
   "cell_type": "code",
   "execution_count": 50,
   "metadata": {
    "ExecuteTime": {
     "end_time": "2020-03-09T14:43:52.762692Z",
     "start_time": "2020-03-09T14:43:50.034951Z"
    }
   },
   "outputs": [
    {
     "name": "stdout",
     "output_type": "stream",
     "text": [
      "2.395601987838745\n"
     ]
    }
   ],
   "source": [
    "secs = time_sort(quick_sort2)\n",
    "print(secs)"
   ]
  },
  {
   "cell_type": "markdown",
   "metadata": {},
   "source": [
    "## Custom Sort -> inspiration from python standard sort"
   ]
  },
  {
   "cell_type": "code",
   "execution_count": 169,
   "metadata": {
    "ExecuteTime": {
     "end_time": "2020-03-09T16:24:00.747690Z",
     "start_time": "2020-03-09T16:23:51.457403Z"
    }
   },
   "outputs": [
    {
     "name": "stdout",
     "output_type": "stream",
     "text": [
      "8.985130548477173\n"
     ]
    }
   ],
   "source": [
    "secs = time_sort(merge_runs)\n",
    "print(secs)"
   ]
  },
  {
   "cell_type": "markdown",
   "metadata": {},
   "source": [
    "## Dict sort"
   ]
  },
  {
   "cell_type": "code",
   "execution_count": 220,
   "metadata": {
    "ExecuteTime": {
     "end_time": "2020-03-09T16:57:22.496226Z",
     "start_time": "2020-03-09T16:57:21.747187Z"
    }
   },
   "outputs": [
    {
     "name": "stdout",
     "output_type": "stream",
     "text": [
      "0.4358489513397217\n"
     ]
    }
   ],
   "source": [
    "secs = time_sort(dict_sort)\n",
    "print(secs)"
   ]
  },
  {
   "cell_type": "code",
   "execution_count": 214,
   "metadata": {
    "ExecuteTime": {
     "end_time": "2020-03-09T16:53:22.201685Z",
     "start_time": "2020-03-09T16:53:20.408329Z"
    }
   },
   "outputs": [],
   "source": [
    "res = dict_sort(get_text())\n",
    "rez = sorted(get_text())\n",
    "\n",
    "for i in range(len(rez)):\n",
    "    if res[i] != rez[i]:\n",
    "        print(\":(\", i, res[i], rez[i])\n",
    "        break"
   ]
  }
 ],
 "metadata": {
  "kernelspec": {
   "display_name": "Python 3",
   "language": "python",
   "name": "python3"
  },
  "language_info": {
   "codemirror_mode": {
    "name": "ipython",
    "version": 3
   },
   "file_extension": ".py",
   "mimetype": "text/x-python",
   "name": "python",
   "nbconvert_exporter": "python",
   "pygments_lexer": "ipython3",
   "version": "3.7.1"
  }
 },
 "nbformat": 4,
 "nbformat_minor": 2
}
